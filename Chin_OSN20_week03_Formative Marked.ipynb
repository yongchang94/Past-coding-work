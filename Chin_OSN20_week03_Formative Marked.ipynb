{
 "cells": [
  {
   "cell_type": "markdown",
   "metadata": {},
   "source": [
    "# Online Social Networks, Hilary Term 2020\n",
    "## Week 3 Formative Assignment\n",
    "\n",
    "You will be marked for correct output and for following the instructions carefully.  \n",
    "\n",
    "Remember to name this file correctly. So if your surname is \"Turing\", the file you submit should be:\n",
    "TURING_OSN20_Week03_Formative.ipynb \n",
    "\n",
    "Be careful that the extension is not .json. **Edit it above now where it says SURNAME before you continue.** \n",
    "\n",
    "For this series of exercises, you will be asked to use the \"comm16.graphml\" data set uploaded to Canvas. Please do not distribute this file as it is licensed for academic use only. "
   ]
  },
  {
   "cell_type": "code",
   "execution_count": 2,
   "metadata": {},
   "outputs": [
    {
     "data": {
      "text/plain": [
       "{'name': '1',\n",
       " 'sex': '1',\n",
       " 'race': '1',\n",
       " 'grade': '10',\n",
       " 'totalnoms': '8',\n",
       " 'scode': '1'}"
      ]
     },
     "execution_count": 2,
     "metadata": {},
     "output_type": "execute_result"
    }
   ],
   "source": [
    "# To get started\n",
    "import networkx as nx\n",
    "import pandas as pd\n",
    "%matplotlib inline \n",
    "\n",
    "g = nx.read_graphml(\"comm16.graphml\")\n",
    "\n",
    "# A helpful code snippet reminder for getting the attributes of a node: \n",
    "# next(iter(g.nodes)) will get the NodeID of the first node\n",
    "# g.nodes[NODEID] will get the attributes of a node by NodeID, thus: \n",
    "\n",
    "g.nodes[next(iter(g.nodes))]"
   ]
  },
  {
   "cell_type": "code",
   "execution_count": 3,
   "metadata": {},
   "outputs": [
    {
     "name": "stdout",
     "output_type": "stream",
     "text": [
      "Name: \n",
      "Type: DiGraph\n",
      "Number of nodes: 795\n",
      "Number of edges: 4125\n",
      "Average in degree:   5.1887\n",
      "Average out degree:   5.1887\n",
      "\n",
      "\n",
      "There are 795 nodes.\n",
      "There are 4125 edges.\n",
      "The average degree is 10.38 but the average in-degree is 5.19\n",
      "The average out-degree is also 5.19\n",
      "\n",
      "\n",
      "Node n5 has an in-degree of 6.\n",
      "However, node n5 has an out-degree of 7, which shows it is a directed graph as in-degrees are not equal to out-degrees.\n"
     ]
    }
   ],
   "source": [
    "# Exercise 1. Basic netowrk description \n",
    "\n",
    "# Describe the network using the following features: \n",
    "# 1.1 Number of nodes (1pt)\n",
    "# 1.2 Number of edges (1pt)\n",
    "# 1.3 Average in-degree/degree (explain why it is a directed or undirected graph), 2pts\n",
    "\n",
    "# Answer below here: \n",
    "\n",
    "print(nx.info(g))\n",
    "print(\"\\n\")\n",
    "\n",
    "# 1.1\n",
    "print(\"There are\", g.number_of_nodes(), \"nodes.\")\n",
    "\n",
    "# 1.2\n",
    "print(\"There are\", g.number_of_edges(), \"edges.\")\n",
    "\n",
    "# 1.3\n",
    "df = pd.DataFrame.from_dict(dict(g.nodes), orient = \"index\")\n",
    "df[\"degree\"] = pd.Series(dict(nx.degree(g)))\n",
    "df[\"in_degree\"] = pd.Series(dict(g.in_degree(g)))\n",
    "df[\"out_degree\"] = pd.Series(dict(g.out_degree(g)))\n",
    "# display(df)\n",
    "\n",
    "print(\"The average degree is {:.2f}\".format(df[\"degree\"].mean()), \n",
    "      \"but the average in-degree is {:.2f}\".format(df[\"in_degree\"].mean()))\n",
    "\n",
    "print(\"The average out-degree is also {:.2f}\".format(df[\"out_degree\"].mean()))\n",
    "print(\"\\n\")\n",
    "\n",
    "deg_in = g.in_degree('n5')\n",
    "deg_out = g.out_degree('n5')\n",
    "\n",
    "print(\"Node n5 has an in-degree of {}.\".format(deg_in))\n",
    "print(\"However, node n5 has an out-degree of {}, which shows it is a directed graph as in-degrees are not equal to out-degrees.\".format(deg_out))\n",
    "\n",
    "# Comments below here: \n",
    "\n",
    "\n",
    "ex1_of4 = 4"
   ]
  },
  {
   "cell_type": "code",
   "execution_count": 8,
   "metadata": {},
   "outputs": [
    {
     "name": "stdout",
     "output_type": "stream",
     "text": [
      "There are 160 strongly connected components with 795 nodes.\n",
      "391\n",
      "778\n"
     ]
    }
   ],
   "source": [
    "# Exercise 2 - Path based metrics. (2pts each)\n",
    "\n",
    "# 2.1. What is the diameter of the network? \n",
    "# 2.2. How many nodes are in the giant component (assuming there is a giant component)?\n",
    "# 2.3. What is the largest strongly_connected_component\n",
    "\n",
    "\n",
    "# Answer below here: \n",
    "\n",
    "count = 0\n",
    "for c in nx.strongly_connected_components(g): count += 1\n",
    "print(\"There are\", count, \"strongly connected components with\", g.number_of_nodes(), \"nodes.\")\n",
    "\n",
    "g_strong = max(nx.strongly_connected_components(g), key=len) # to select the largest strongly connected component\n",
    "print(len(g_strong))\n",
    "\n",
    "# print(nx.diameter(g_strong))\n",
    "# print(g_strong.diameter())\n",
    "\n",
    "Gc = max(nx.weakly_connected_components(g), key=len)\n",
    "print(len(Gc))\n",
    "\n",
    "# print(\"The giant component has\", Gc.number_of_nodes(), \"number of nodes.\")\n",
    "# print(\"The giant component has\", len(Gc.nodes), \"number of nodes.\")\n",
    "\n",
    "# Sorry, I really tried and even went through the documentation and help files. I don't know what's wrong. \n",
    "# The above lines of code for diameter and number_of_nodes do not work.\n",
    "\n",
    "# Comments below here: \n",
    "\"\"\"1. The diameter of the network is the diameter of its largest strong connected (giant) component.\"\"\"\n",
    "\n",
    "\n",
    "ex2_of6 = 4"
   ]
  },
  {
   "cell_type": "code",
   "execution_count": 4,
   "metadata": {},
   "outputs": [
    {
     "name": "stdout",
     "output_type": "stream",
     "text": [
      "Nodes with highest betweenness centrality and its respective value are:\n",
      "n153  : 0.029592448043782093  \n",
      "n375  : 0.027386116755251527  \n",
      "n417  : 0.021653419757343584  \n",
      "\n",
      "\n",
      "And their attributes are coded as follows:\n",
      "{'name': '475', 'sex': '2', 'race': '1', 'grade': '9', 'totalnoms': '10', 'scode': '1'}\n",
      "{'name': '700', 'sex': '2', 'race': '1', 'grade': '8', 'totalnoms': '10', 'scode': '0'}\n",
      "{'name': '190', 'sex': '2', 'race': '1', 'grade': '9', 'totalnoms': '10', 'scode': '1'}\n",
      "\n",
      "\n",
      "Node name 475 is a white female with a grade of 9.\n",
      "Node name 700 is a white female with a grade of 8.\n",
      "Node name 190 is also a white female with a grade of 9.\n"
     ]
    }
   ],
   "source": [
    "# Exercise 3 - Using betweenness (2pts each)\n",
    "#\n",
    "# Find the three nodes with the highest betweenness centrality \n",
    "# For each of these nodes, you will see there are attributes attached to the data. \n",
    "# 3.1. Report the betweeenness of these nodes. \n",
    "# 3.2. Describe the grade, race, and gender of these nodes. \n",
    "# Later we will discuss how networks can reveal intersectional inequalities using these data \n",
    "#\n",
    "# You may consult the codebook (AddHealth_agreement_and_codebook.pdf) for this task\n",
    "\n",
    "# Answer below here: \n",
    "\n",
    "from collections import Counter\n",
    "\n",
    "bc = nx.betweenness_centrality(g) #code has been changed from .degree_centrality to what it is now\n",
    "# print(bc)\n",
    "\n",
    "k = Counter(bc)\n",
    "high = k.most_common(3)\n",
    "\n",
    "print(\"Nodes with highest betweenness centrality and its respective value are:\")\n",
    "\n",
    "for i in high: \n",
    "    print(i[0],\" :\",i[1],\" \")\n",
    "\n",
    "print(\"\\n\")\n",
    "\n",
    "print(\"And their attributes are coded as follows:\")\n",
    "print(g.nodes[\"n474\"])\n",
    "print(g.nodes[\"n699\"])\n",
    "print(g.nodes[\"n189\"])\n",
    "\n",
    "print(\"\\n\")\n",
    "print(\"Node name 475 is a white female with a grade of 9.\")\n",
    "print(\"Node name 700 is a white female with a grade of 8.\")\n",
    "print(\"Node name 190 is also a white female with a grade of 9.\")\n",
    "\n",
    "# Comments below here: \n",
    "\"\"\" You looked at the degree centrality, not the betweenness centrality.\"\"\"\n",
    "\n",
    "\n",
    "ex3_of4 = 0\n"
   ]
  },
  {
   "cell_type": "code",
   "execution_count": 10,
   "metadata": {},
   "outputs": [
    {
     "name": "stdout",
     "output_type": "stream",
     "text": [
      "Nodes with highest closeness centrality and its respective value are:\n",
      "n474  : 0.24718495678539812  \n",
      "n189  : 0.24214875600266028  \n",
      "n370  : 0.23946042688585442  \n",
      "\n",
      "\n",
      "Node n474 has a direct connection to 30 others.\n",
      "Node n474 can indirectly reach 451 others.\n",
      "\n",
      "\n",
      "Node n189 has a direct connection to 28 others.\n",
      "Node n189 can indirectly reach 451 others.\n",
      "\n",
      "\n",
      "Node n370 has a direct connection to 27 others.\n",
      "Node n370 can indirectly reach 451 others.\n",
      "\n",
      "\n",
      "The average distance from node n474 to all other reachable nodes is 4.253.\n",
      "The average distance from node n189 to all other reachable nodes is 4.408.\n",
      "The average distance from node n370 to all other reachable nodes is 4.355.\n",
      "\n",
      "\n",
      "Only n474 and n189 are the same as the question before.\n"
     ]
    }
   ],
   "source": [
    "# Exercise 4 - Using closeness (2pts each)\n",
    "#\n",
    "# Find the three nodes with the highest closeness centrality. \n",
    "# For each of the nodes report: \n",
    "# 4.1. How many nodes can these three reach?\n",
    "# 4.2. Report on their average distance to their reachable nodes \n",
    "# 4.3. Are they the same nodes as featured in Exercise 3? \n",
    "\n",
    "\n",
    "# Answer below here: \n",
    "\n",
    "from collections import Counter\n",
    "\n",
    "cc = nx.closeness_centrality(g)\n",
    "k = Counter(cc)\n",
    "high = k.most_common(3)\n",
    "print(\"Nodes with highest closeness centrality and its respective value are:\")\n",
    "for i in high: \n",
    "    print(i[0],\" :\",i[1],\" \")\n",
    "    \n",
    "deg1 = nx.degree(g,'n474')\n",
    "deg2 = nx.degree(g,'n189')\n",
    "deg3 = nx.degree(g,'n370')\n",
    "\n",
    "paths1 = nx.single_source_shortest_path(g,'n474')\n",
    "paths2 = nx.single_source_shortest_path(g,'n189')\n",
    "paths3 = nx.single_source_shortest_path(g,'n370')\n",
    "\n",
    "print(\"\\n\")\n",
    "\n",
    "print(\"Node n474 has a direct connection to {} others.\".format(deg1))\n",
    "print(\"Node n474 can indirectly reach {} others.\".format(len(paths1)))\n",
    "\n",
    "print(\"\\n\")\n",
    "\n",
    "print(\"Node n189 has a direct connection to {} others.\".format(deg2))\n",
    "print(\"Node n189 can indirectly reach {} others.\".format(len(paths2)))\n",
    "\n",
    "print(\"\\n\")\n",
    "\n",
    "print(\"Node n370 has a direct connection to {} others.\".format(deg3))\n",
    "print(\"Node n370 can indirectly reach {} others.\".format(len(paths3)))\n",
    "\n",
    "print(\"\\n\")\n",
    "\n",
    "import numpy as np\n",
    "\n",
    "avg_dist1 = np.mean([len(path)-1 for index,path in paths1.items()])\n",
    "print(\"The average distance from node n474 to all other reachable nodes \"\\\n",
    "      \"is {:.3f}.\".format(avg_dist1))\n",
    "\n",
    "avg_dist2 = np.mean([len(path)-1 for index,path in paths2.items()])\n",
    "print(\"The average distance from node n189 to all other reachable nodes \"\\\n",
    "      \"is {:.3f}.\".format(avg_dist2))\n",
    "\n",
    "avg_dist3 = np.mean([len(path)-1 for index,path in paths3.items()])\n",
    "print(\"The average distance from node n370 to all other reachable nodes \"\\\n",
    "      \"is {:.3f}.\".format(avg_dist3))\n",
    "\n",
    "print(\"\\n\")\n",
    "\n",
    "print(\"Only n474 and n189 are the same as the question before.\")\n",
    "\n",
    "# Comments below here: \n",
    "\n",
    "\n",
    "\n",
    "ex4_of6 = 5"
   ]
  },
  {
   "cell_type": "code",
   "execution_count": 11,
   "metadata": {},
   "outputs": [
    {
     "name": "stdout",
     "output_type": "stream",
     "text": [
      "Your total out of 20 is: 13.\n"
     ]
    }
   ],
   "source": [
    "try:\n",
    "    total = ex1_of4 + ex2_of6 + ex3_of4 + ex4_of6\n",
    "    print(\"Your total out of 20 is: {}.\".format(total))\n",
    "except (NameError, TypeError):\n",
    "    print(\"The totals have not been tallied yet\")"
   ]
  },
  {
   "cell_type": "code",
   "execution_count": null,
   "metadata": {},
   "outputs": [],
   "source": []
  }
 ],
 "metadata": {
  "kernelspec": {
   "display_name": "Python 3",
   "language": "python",
   "name": "python3"
  },
  "language_info": {
   "codemirror_mode": {
    "name": "ipython",
    "version": 3
   },
   "file_extension": ".py",
   "mimetype": "text/x-python",
   "name": "python",
   "nbconvert_exporter": "python",
   "pygments_lexer": "ipython3",
   "version": "3.7.0"
  }
 },
 "nbformat": 4,
 "nbformat_minor": 4
}
