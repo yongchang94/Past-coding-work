{
 "cells": [
  {
   "cell_type": "markdown",
   "metadata": {},
   "source": [
    "# Online Social Networks, Hilary Term 2020\n",
    "## Week 1 Formative Assignment\n",
    "\n",
    "You will be marked for correct output and for following the instructions carefully.  \n",
    "\n",
    "Remember to name this file correctly. So if your surname is \"Turing\", the file you submit should be:\n",
    "TURING_OSN20_Week01_Formative.ipynb \n",
    "\n",
    "Be careful that the extension is not .json. **Edit it above now where it says SURNAME before you continue.** \n"
   ]
  },
  {
   "cell_type": "code",
   "execution_count": 1,
   "metadata": {
    "jupyter": {
     "outputs_hidden": true
    }
   },
   "outputs": [
    {
     "name": "stdout",
     "output_type": "stream",
     "text": [
      "[1, 2, 3, 4, 5, 6, 7, 8] \n",
      " Name: Exercise 1\n",
      "Type: Graph\n",
      "Number of nodes: 8\n",
      "Number of edges: 8\n",
      "Average degree:   2.0000\n",
      "\n",
      "Populating the interactive namespace from numpy and matplotlib\n"
     ]
    },
    {
     "name": "stderr",
     "output_type": "stream",
     "text": [
      "/anaconda3/lib/python3.7/site-packages/networkx/drawing/nx_pylab.py:611: MatplotlibDeprecationWarning: isinstance(..., numbers.Number)\n",
      "  if cb.is_numlike(alpha):\n"
     ]
    },
    {
     "data": {
      "image/png": "[encoded data removed]",
      "text/plain": [
       "<Figure size 432x288 with 1 Axes>"
      ]
     },
     "metadata": {
      "needs_background": "light"
     },
     "output_type": "display_data"
    }
   ],
   "source": [
    "# Exercise 1. \n",
    "# \n",
    "# Create an empty graph and then add edges that create a shape. \n",
    "# It can be any shape but it must include at least 8 nodes. \n",
    "# You should be able to describe the shape with a word. \n",
    "# Then plot that shape. \n",
    "#\n",
    "# You might want to use two different edge colours / attributes to show your shape. \n",
    "# If your shape needs the nodes to be in a specific position, then refer to the class\n",
    "# notes for how to position the nodes manually. \n",
    "\n",
    "# Plot that shape. \n",
    "\n",
    "# Answer Below here. \n",
    "#*********************************\n",
    "\n",
    "# Aim is to graph a 'circle' where every node has only two edges.\n",
    "import networkx as nx\n",
    "g1 = nx.Graph(name = \"Exercise 1\")\n",
    "g1.add_nodes_from([1, 2, 3, 4, 5, 6, 7, 8])\n",
    "g1.add_edges_from([(1, 2), (2, 3), (3, 4), (4, 5), (5, 6), (6, 7), (7, 8), (8, 1)])\n",
    "\n",
    "def summary(graph):\n",
    "    print(graph.nodes(), \"\\n\", nx.info(graph), end = \"\\n\\n\")\n",
    "summary(g1)\n",
    "\n",
    "import matplotlib.pyplot as plt\n",
    "%pylab inline\n",
    "pos1 = nx.spring_layout(g1)\n",
    "nx.draw_networkx_nodes(g1, pos1)\n",
    "nx.draw_networkx_edges(g1, pos1)\n",
    "nx.draw_networkx_labels(g1, pos1, font_size = 20, font_family = 'sans-serif')\n",
    "plt.axis('off')\n",
    "plt.show()\n",
    "\n",
    "# Ok, I guess it's an octagon.\n",
    "\n",
    "# Instructor comments below here. \n",
    "#*********************************\n",
    "\n",
    "ex1 = 5 # (out of 5)\n"
   ]
  },
  {
   "cell_type": "code",
   "execution_count": 2,
   "metadata": {
    "jupyter": {
     "outputs_hidden": true
    }
   },
   "outputs": [
    {
     "name": "stdout",
     "output_type": "stream",
     "text": [
      "Name: Exercises 2\n",
      "Type: Graph\n",
      "Number of nodes: 8\n",
      "Number of edges: 9\n",
      "Average degree:   2.2500\n",
      "\n",
      "Populating the interactive namespace from numpy and matplotlib\n"
     ]
    },
    {
     "data": {
      "image/png": "[encoded data removed]",
      "text/plain": [
       "<Figure size 432x288 with 1 Axes>"
      ]
     },
     "metadata": {
      "needs_background": "light"
     },
     "output_type": "display_data"
    }
   ],
   "source": [
    "# Exercise 2. \n",
    "# Here is a story about some friends. \n",
    "\n",
    "# Task 1. Create a graph of who 'knows' who. \n",
    "# Task 2. Plot that graph.\n",
    "\n",
    "'''\n",
    "When Alice introduced Bob to Charlie little did she know they would become best friends.\n",
    "Alice had known Charlie for years but only recently met Bob. Doug, the IT manager at the\n",
    "office brought Bob along to his weekly games night with Alice. Charlie doesn't play board games \n",
    "but something about Bob's demeanor suggested that he and Charlie would get along. \n",
    "\n",
    "One day after work, Alice invited both Bob and Charlie out for drinks. The best moment was\n",
    "probably when both Bob and Charlie realised they both knew Ellen from the local market. Ellen \n",
    "was always fun to talk to. Sometimes she was tending to the market stall herself, sometimes \n",
    "her partner Fred was there too. It seems both Bob and Charlie had been shopping there for \n",
    "years without ever making the connection. \n",
    "\n",
    "Now that everyone seems to have been introduced to someone or another, we now come to \n",
    "poor George. It seems no one mentioned him yet, which is a shame since he was the one growing\n",
    "the veg that Ellen and Fred sell at the market. But let's be honest, none of them took a shine\n",
    "to George since he seemed to be a cranky fellow. Well, almost no one. George's wife Helga loved\n",
    "him and knew that despite his gruff voice and wrinkled face, he was actually a big softie.\n",
    "'''\n",
    "\n",
    "# Answer Below here. \n",
    "#*********************************\n",
    "\n",
    "#Please run sequentially after Exercise 1.\n",
    "#We do not use a DiGraph because we assume the friendships are reciprocal.\n",
    "g2 = nx.Graph(name = \"Exercises 2\")\n",
    "g2.add_nodes_from([\"Alice\", \"Bob\", \"Charlie\", \"Doug\", \"Ellen\", \"Fred\", \"George\", \"Helga\"])\n",
    "\n",
    "edgelist_acquaintance = [(\"Alice\", \"Bob\"), (\"Alice\", \"Charlie\"), (\"Bob\", \"Charlie\"),\n",
    "                         (\"Doug\", \"Bob\"), (\"Doug\", \"Alice\"),\n",
    "                         (\"Ellen\", \"Bob\"), (\"Ellen\", \"Charlie\"),\n",
    "                         (\"Fred\", \"Ellen\"), #Assume Bob and Charlie both do not know Fred despite knowing Ellen\n",
    "                         (\"George\", \"Helga\")]\n",
    "\n",
    "g2.add_edges_from(edgelist_acquaintance)\n",
    "\n",
    "print(nx.info(g2), end = \"\\n\\n\")\n",
    "\n",
    "# for i in g2.edges:\n",
    "#     print(i)\n",
    "\n",
    "%pylab inline\n",
    "pos2 = nx.spring_layout(g2)\n",
    "nx.draw_networkx_nodes(g2, pos2)\n",
    "nx.draw_networkx_edges(g2, pos2)\n",
    "nx.draw_networkx_labels(g2, pos2, font_size = 12, font_family = 'sans-serif')\n",
    "plt.axis('off')\n",
    "plt.show()\n",
    "\n",
    "# Instructor comments below here. \n",
    "\"\"\"\n",
    "Bob and Charlie know Fred too as he sells them the veg sometimes.\n",
    "Moreover, Ellen and Fred know George, even though they do not like him.\n",
    "\"\"\"\n",
    "\n",
    "\n",
    "ex2 = 3 # (out of 5)\n",
    "\n"
   ]
  },
  {
   "cell_type": "code",
   "execution_count": 3,
   "metadata": {
    "jupyter": {
     "outputs_hidden": true
    }
   },
   "outputs": [
    {
     "data": {
      "image/png": "[encoded data removed]",
      "text/plain": [
       "<Figure size 432x288 with 1 Axes>"
      ]
     },
     "metadata": {
      "needs_background": "light"
     },
     "output_type": "display_data"
    },
    {
     "name": "stdout",
     "output_type": "stream",
     "text": [
      "Name: Extra Object\n",
      "Type: MultiGraph\n",
      "Number of nodes: 8\n",
      "Number of edges: 15\n",
      "Average degree:   3.7500\n",
      "\n",
      "('Alice', 'Bob', 0)\n",
      "('Alice', 'Charlie', 0)\n",
      "('Alice', 'Charlie', 1)\n",
      "('Alice', 'Doug', 0)\n",
      "('Alice', 'Doug', 1)\n",
      "('Bob', 'Charlie', 0)\n",
      "('Bob', 'Charlie', 1)\n",
      "('Bob', 'Doug', 0)\n",
      "('Bob', 'Doug', 1)\n",
      "('Bob', 'Ellen', 0)\n",
      "('Charlie', 'Ellen', 0)\n",
      "('Ellen', 'Fred', 0)\n",
      "('Ellen', 'Fred', 1)\n",
      "('George', 'Helga', 0)\n",
      "('George', 'Helga', 1)\n"
     ]
    }
   ],
   "source": [
    "# Exercise 3. \n",
    "# Using the narrative above create a second graph but only of \n",
    "# those who are close friends. \n",
    "# Plot this graph using the same position as the previous graph. \n",
    "# This way it is easier to compare the two images.\n",
    "# In the answer, use comments to deliberate on why a node \n",
    "# should or should not be considered a close friend. Being brief is preferred.\n",
    "\n",
    "# So, there's no bonus marks per se, but it would be cool if you made the \n",
    "# above graph a MultiGraph and then labelled some of the edges as 'close'.  \n",
    "\n",
    "# Answer Below here. \n",
    "#*********************************\n",
    "\n",
    "g3 = nx.Graph(name = \"Exercises 3\")\n",
    "g3.add_nodes_from(g2)\n",
    "\n",
    "# Alice and Bob aren't close friends as they had only met recently, unlike Alice and Charlie.\n",
    "# Ellen isn't close friends with Bob and Charlie as she only meets them at the market stall.\n",
    "# Doug is close friends with both Bob and Alice as:\n",
    "# (1) Doug goes to board game nights with Alice, and\n",
    "# (2) has introduced Bob to the pre-existing board game group.\n",
    "\n",
    "edgelist_close = [(\"Alice\", \"Charlie\"), (\"Bob\", \"Charlie\"), \n",
    "                  (\"Doug\", \"Bob\"), (\"Doug\", \"Alice\"),\n",
    "                  (\"Ellen\", \"Fred\"), \n",
    "                  (\"George\", \"Helga\")]\n",
    "\n",
    "g3.add_edges_from(edgelist_close)\n",
    "\n",
    "nx.draw_networkx_nodes(g3, pos2)\n",
    "nx.draw_networkx_edges(g3, pos2)\n",
    "nx.draw_networkx_labels(g3, pos2, font_size = 12, font_family = 'sans-serif')\n",
    "plt.axis('off')\n",
    "plt.show()\n",
    "\n",
    "# Code to do it as a MultiGraph\n",
    "g4 = nx.MultiGraph(name = \"Extra Object\")\n",
    "g4.add_nodes_from(g2)\n",
    "g4.add_edges_from(edgelist_acquaintance, type = \"acquaintance\")\n",
    "g4.add_edges_from(edgelist_close, type = \"close\")\n",
    "\n",
    "print(nx.info(g4), end = \"\\n\\n\")\n",
    "for i in g4.edges:\n",
    "    print(i)\n",
    "\n",
    "# How would I select edge type from g4 and then draw only the edges which have been selected?\n",
    "    \n",
    "# Instructor comments below here. \n",
    "\"\"\"\n",
    "The question is not very clear about the definition of close friends so nice explanation from you.\n",
    "\n",
    "To answer your question, the two lines below should do what you ask (you just draw the edges consider \n",
    "as close friends' edges):\n",
    "nx.draw_networkx_nodes(g4,pos2,node_size=500)\n",
    "nx.draw_networkx_edges(g4,pos2,edgelist=edgelist_close,width=3)\n",
    "\"\"\"\n",
    "\n",
    "\n",
    "ex3 = 5 # (out of 5)\n",
    "\n"
   ]
  },
  {
   "cell_type": "markdown",
   "metadata": {},
   "source": [
    "## Exercise 4. \n",
    "Look for a paper (online or in the library). That paper should use a network derived from online data. It should make a comment about the properties of the network that is substantively interesting. \n",
    "\n",
    "List the following:\n",
    "- How large is the network?\n",
    "- What are the qualities of the network (is it directed / undirected, one mode / two-mode)\n",
    "- What are the boundaries of that network? \n",
    "- What is the substantively interesting finding? \n",
    "\n",
    "## Answer Below here. \n",
    "*********************************\n",
    "\n",
    "Paper chosen: Laniado, D., Volkovich, Y., Scellato, S., Mascolo, C., & Kaltenbrunner, A. (2018). The impact of geographic distance on online social interactions. Information Systems Frontiers, 20(6), 1203-1218.\n",
    "\n",
    "The paper uses a large sample of a Spanish, invitation-only social networking service, Tuenti. It did not allow children younger than 14 to join the service and also asked users to specify a place of residence located in Spain.\n",
    "\n",
    "The paper's dataset is \"based on a full anonymized snapshot of Tuenti friendship connections as of November 2010. It includes about 9.8 million registered users, more than 580 million bidirectional friendship links, and 500 million directed interactions (an interaction is an exchange of a wall message) during a 3 month period and the user's self-reported city of residence (selected from a predetermined list)\" (Laniado et al., 2018: 8).\n",
    "\n",
    "Key points:\n",
    "- The network has 9.8 million users\n",
    "- It has more than 580 million connections which are undirected (friendship links)\n",
    "- Over a three-month period, it had 500 million directed interactions (messages exchanged)\n",
    "- It is a one-mode network\n",
    "- The boundaries of this network are the borders of the country of Spain\n",
    "\n",
    "The study finds that, in Spain, while spatial distance can limit who users interact with, it does not significantly affect the intensity of social interaction with already-established friends. Densely connected groups tend to arise at shorter spatial distances. This is significant because while online social networks can reduce the importance of physical distance in our ability to form connections, spatial distance continues to remain a key predictor of the formation of friendship groups and their density of connections (weak ties). Instead, what online networks seem to have allowed for is that strong ties (as in Mark Granovetter's Strengh of Weak Ties) can be preserved much better by online mediums."
   ]
  },
  {
   "cell_type": "code",
   "execution_count": 4,
   "metadata": {
    "jupyter": {
     "outputs_hidden": true
    }
   },
   "outputs": [],
   "source": [
    "# Exercise 4. Instructor comments below here. \n",
    "#*********************************\n",
    "\n",
    "ex4 = 5 # (out of 5)"
   ]
  },
  {
   "cell_type": "code",
   "execution_count": 5,
   "metadata": {},
   "outputs": [
    {
     "name": "stdout",
     "output_type": "stream",
     "text": [
      "Your total mark is 18, for an average of 90.0\n"
     ]
    }
   ],
   "source": [
    "try: \n",
    "    total_mark = ex1 + ex2 + ex3 + ex4\n",
    "    print(\"Your total mark is %s, for an average of %2.1f\" % (total_mark, total_mark / .2))\n",
    "except TypeError: \n",
    "    pass\n"
   ]
  },
  {
   "cell_type": "code",
   "execution_count": null,
   "metadata": {},
   "outputs": [],
   "source": []
  }
 ],
 "metadata": {
  "kernelspec": {
   "display_name": "Python 3",
   "language": "python",
   "name": "python3"
  },
  "language_info": {
   "codemirror_mode": {
    "name": "ipython",
    "version": 3
   },
   "file_extension": ".py",
   "mimetype": "text/x-python",
   "name": "python",
   "nbconvert_exporter": "python",
   "pygments_lexer": "ipython3",
   "version": "3.7.0"
  }
 },
 "nbformat": 4,
 "nbformat_minor": 4
}
